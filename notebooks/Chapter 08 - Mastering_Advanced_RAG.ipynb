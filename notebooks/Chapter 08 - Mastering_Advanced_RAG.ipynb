{
  "cells": [
    {
      "cell_type": "markdown",
      "metadata": {
        "colab_type": "text",
        "id": "view-in-github"
      },
      "source": [
        "<a href=\"https://colab.research.google.com/github/towardsai/ragbook-notebooks/blob/main/notebooks/Chapter%2008%20-%20Mastering_Advanced_RAG.ipynb\" target=\"_parent\"><img src=\"https://colab.research.google.com/assets/colab-badge.svg\" alt=\"Open In Colab\"/></a>"
      ]
    },
    {
      "cell_type": "code",
      "execution_count": 15,
      "metadata": {
        "id": "Ul1SFfON0TD1"
      },
      "outputs": [
        {
          "data": {
            "text/plain": [
              "True"
            ]
          },
          "execution_count": 15,
          "metadata": {},
          "output_type": "execute_result"
        }
      ],
      "source": [
        "from dotenv import load_dotenv\n",
        "load_dotenv()"
      ]
    },
    {
      "cell_type": "code",
      "execution_count": 3,
      "metadata": {
        "id": "C1Q0cMtj0kOs"
      },
      "outputs": [],
      "source": [
        "from llama_index import SimpleDirectoryReader\n",
        "\n",
        "# Specify the path to your file\n",
        "file_path = \"C:/Users/Christian/Documents/Cand_merc/ragbook-notebooks/notebooks/LLM.txt\"\n",
        "\n",
        "# Load the specific file\n",
        "documents = SimpleDirectoryReader(input_files=[file_path]).load_data()\n"
      ]
    },
    {
      "cell_type": "code",
      "execution_count": 4,
      "metadata": {
        "id": "h9CPwNm10vj2"
      },
      "outputs": [],
      "source": [
        "from llama_index import ServiceContext\n",
        "\n",
        "# initialize service context (set chunk size)\n",
        "service_context = ServiceContext.from_defaults(chunk_size=512, chunk_overlap=64)\n",
        "node_parser = service_context.node_parser\n",
        "\n",
        "nodes = node_parser.get_nodes_from_documents(documents)"
      ]
    },
    {
      "cell_type": "code",
      "execution_count": 5,
      "metadata": {
        "colab": {
          "base_uri": "https://localhost:8080/"
        },
        "id": "96K3MP511gh7",
        "outputId": "e0d44a22-f87f-4a99-e766-a0675cc2f22d"
      },
      "outputs": [
        {
          "name": "stdout",
          "output_type": "stream",
          "text": [
            "Your Deep Lake dataset has been successfully created!\n"
          ]
        },
        {
          "name": "stderr",
          "output_type": "stream",
          "text": [
            " \r"
          ]
        }
      ],
      "source": [
        "from llama_index.vector_stores import DeepLakeVectorStore\n",
        "\n",
        "my_activeloop_org_id = \"hellum\"\n",
        "my_activeloop_dataset_name = \"LlamaIndex_paulgraham_essay\"\n",
        "dataset_path = f\"hub://{my_activeloop_org_id}/{my_activeloop_dataset_name}\"\n",
        "\n",
        "# Create an index over the documnts\n",
        "vector_store = DeepLakeVectorStore(dataset_path=dataset_path, overwrite=False)"
      ]
    },
    {
      "cell_type": "code",
      "execution_count": 6,
      "metadata": {
        "id": "FaH-fN_b1PQo"
      },
      "outputs": [],
      "source": [
        "from llama_index.storage.storage_context import StorageContext\n",
        "\n",
        "storage_context = StorageContext.from_defaults(vector_store=vector_store)\n",
        "storage_context.docstore.add_documents(nodes)"
      ]
    },
    {
      "cell_type": "code",
      "execution_count": 7,
      "metadata": {
        "colab": {
          "base_uri": "https://localhost:8080/"
        },
        "id": "JBGiu_3j17mX",
        "outputId": "eb0a8684-63c9-4190-8388-9304abc12768"
      },
      "outputs": [
        {
          "name": "stdout",
          "output_type": "stream",
          "text": [
            "Uploading data to deeplake dataset.\n"
          ]
        },
        {
          "name": "stderr",
          "output_type": "stream",
          "text": [
            "100%|██████████| 41/41 [00:01<00:00, 32.16it/s]\n",
            " \r"
          ]
        },
        {
          "name": "stdout",
          "output_type": "stream",
          "text": [
            "Dataset(path='hub://hellum/LlamaIndex_paulgraham_essay', tensors=['text', 'metadata', 'embedding', 'id'])\n",
            "\n",
            "  tensor      htype      shape      dtype  compression\n",
            "  -------    -------    -------    -------  ------- \n",
            "   text       text      (41, 1)      str     None   \n",
            " metadata     json      (41, 1)      str     None   \n",
            " embedding  embedding  (41, 1536)  float32   None   \n",
            "    id        text      (41, 1)      str     None   \n"
          ]
        }
      ],
      "source": [
        "from llama_index import VectorStoreIndex\n",
        "\n",
        "vector_index = VectorStoreIndex(nodes, storage_context=storage_context)"
      ]
    },
    {
      "cell_type": "code",
      "execution_count": 8,
      "metadata": {
        "id": "uOoF3OYa2a-q"
      },
      "outputs": [],
      "source": [
        "query_engine = vector_index.as_query_engine(streaming=True, similarity_top_k=10)"
      ]
    },
    {
      "cell_type": "code",
      "execution_count": 9,
      "metadata": {
        "colab": {
          "base_uri": "https://localhost:8080/"
        },
        "id": "QpbkU6GR2mUC",
        "outputId": "515e4b9f-9508-41c1-ff75-52a9b6d9c0c2"
      },
      "outputs": [
        {
          "name": "stdout",
          "output_type": "stream",
          "text": [
            "Paul Graham works on a variety of projects, including writing essays, working on startup funding programs like the Summer Founders Program, giving talks, developing new programming languages like Bel and Arc, and engaging in art classes."
          ]
        }
      ],
      "source": [
        "streaming_response = query_engine.query(\n",
        "    \"What does Paul Graham do?\",\n",
        ")\n",
        "streaming_response.print_response_stream()"
      ]
    },
    {
      "cell_type": "markdown",
      "metadata": {
        "id": "9l7VRFwBL3oS"
      },
      "source": [
        "# SubQuestion Query Engine"
      ]
    },
    {
      "cell_type": "code",
      "execution_count": 10,
      "metadata": {
        "id": "semCwp2XMmXq"
      },
      "outputs": [],
      "source": [
        "query_engine = vector_index.as_query_engine(similarity_top_k=10)"
      ]
    },
    {
      "cell_type": "code",
      "execution_count": 11,
      "metadata": {
        "id": "UYfJFCaGL3B_"
      },
      "outputs": [],
      "source": [
        "from llama_index.tools import QueryEngineTool, ToolMetadata\n",
        "from llama_index.query_engine import SubQuestionQueryEngine\n",
        "\n",
        "query_engine_tools = [\n",
        "    QueryEngineTool(\n",
        "        query_engine=query_engine,\n",
        "        metadata=ToolMetadata(\n",
        "            name=\"pg_essay\",\n",
        "            description=\"Paul Graham essay on What I Worked On\",\n",
        "        ),\n",
        "    ),\n",
        "]\n",
        "\n",
        "query_engine = SubQuestionQueryEngine.from_defaults(\n",
        "    query_engine_tools=query_engine_tools,\n",
        "    service_context=service_context,\n",
        "    use_async=True,\n",
        ")"
      ]
    },
    {
      "cell_type": "code",
      "execution_count": null,
      "metadata": {
        "colab": {
          "base_uri": "https://localhost:8080/"
        },
        "id": "rDRMYb9HMH7a",
        "outputId": "7e4eadba-7868-4927-b6a3-cc336f99b058"
      },
      "outputs": [],
      "source": [
        "response = query_engine.query(\n",
        "    \"How was Paul Grahams life different before, during, and after YC?\"\n",
        ")"
      ]
    },
    {
      "cell_type": "code",
      "execution_count": 14,
      "metadata": {
        "colab": {
          "base_uri": "https://localhost:8080/"
        },
        "id": "pRvnUf7zMLBF",
        "outputId": "4f726217-13b5-4fb6-ee60-741f29358fe7"
      },
      "outputs": [
        {
          "ename": "NameError",
          "evalue": "name 'response' is not defined",
          "output_type": "error",
          "traceback": [
            "\u001b[1;31m---------------------------------------------------------------------------\u001b[0m",
            "\u001b[1;31mNameError\u001b[0m                                 Traceback (most recent call last)",
            "Cell \u001b[1;32mIn[14], line 1\u001b[0m\n\u001b[1;32m----> 1\u001b[0m \u001b[38;5;28mprint\u001b[39m( \u001b[38;5;124m\"\u001b[39m\u001b[38;5;124m>>> The final response:\u001b[39m\u001b[38;5;130;01m\\n\u001b[39;00m\u001b[38;5;124m\"\u001b[39m, \u001b[43mresponse\u001b[49m )\n",
            "\u001b[1;31mNameError\u001b[0m: name 'response' is not defined"
          ]
        }
      ],
      "source": [
        "print( \">>> The final response:\\n\", response )"
      ]
    },
    {
      "cell_type": "markdown",
      "metadata": {
        "id": "t8jeNI3Igwqv"
      },
      "source": [
        "# Cohere Rerank"
      ]
    },
    {
      "cell_type": "code",
      "execution_count": 17,
      "metadata": {
        "id": "mVJOtIHQgxlf"
      },
      "outputs": [],
      "source": [
        "import os\n",
        "import cohere\n",
        "\n",
        "# Get your cohere API key on: www.cohere.com\n",
        "co = cohere.Client(os.environ['COHERE_API_KEY'])\n",
        "\n",
        "# Example query and passages\n",
        "query = \"What is the capital of the United States?\"\n",
        "documents = [\n",
        "   \"Carson City is the capital city of the American state of Nevada. At the  2010 United States Census, Carson City had a population of 55,274.\",\n",
        "   \"The Commonwealth of the Northern Mariana Islands is a group of islands in the Pacific Ocean that are a political division controlled by the United States. Its capital is Saipan.\",\n",
        "   \"Charlotte Amalie is the capital and largest city of the United States Virgin Islands. It has about 20,000 people. The city is on the island of Saint Thomas.\",\n",
        "   \"Washington, D.C. (also known as simply Washington or D.C., and officially as the District of Columbia) is the capital of the United States. It is a federal district. \",\n",
        "   \"Capital punishment (the death penalty) has existed in the United States since before the United States was a country. As of 2017, capital punishment is legal in 30 of the 50 states.\",\n",
        "   \"North Dakota is a state in the United States. 672,591 people lived in North Dakota in the year 2010. The capital and seat of government is Bismarck.\"\n",
        "   ]"
      ]
    },
    {
      "cell_type": "code",
      "execution_count": 18,
      "metadata": {
        "colab": {
          "base_uri": "https://localhost:8080/"
        },
        "id": "O0nOLQmmg3yY",
        "outputId": "d5269adb-2fc3-4a0e-d977-6e0f44ae0fd5"
      },
      "outputs": [
        {
          "name": "stdout",
          "output_type": "stream",
          "text": [
            "Document Rank: 1, Document Index: 3\n",
            "Document: Washington, D.C. (also known as simply Washington or D.C., and officially as the District of Columbia) is the capital of the United States. It is a federal district. \n",
            "Relevance Score: 0.98\n",
            "\n",
            "\n",
            "Document Rank: 2, Document Index: 1\n",
            "Document: The Commonwealth of the Northern Mariana Islands is a group of islands in the Pacific Ocean that are a political division controlled by the United States. Its capital is Saipan.\n",
            "Relevance Score: 0.30\n",
            "\n",
            "\n",
            "Document Rank: 3, Document Index: 4\n",
            "Document: Capital punishment (the death penalty) has existed in the United States since before the United States was a country. As of 2017, capital punishment is legal in 30 of the 50 states.\n",
            "Relevance Score: 0.28\n",
            "\n",
            "\n"
          ]
        }
      ],
      "source": [
        "results = co.rerank(query=query, documents=documents, top_n=3, model='rerank-english-v2.0') # Change top_n to change the number of results returned. If top_n is not passed, all results will be returned.\n",
        "\n",
        "for idx, r in enumerate(results):\n",
        "  print(f\"Document Rank: {idx + 1}, Document Index: {r.index}\")\n",
        "  print(f\"Document: {r.document['text']}\")\n",
        "  print(f\"Relevance Score: {r.relevance_score:.2f}\")\n",
        "  print(\"\\n\")"
      ]
    },
    {
      "cell_type": "markdown",
      "metadata": {
        "id": "bifEKCqihBBy"
      },
      "source": [
        "# Cohere in LlamaIndex"
      ]
    },
    {
      "cell_type": "code",
      "execution_count": 19,
      "metadata": {
        "id": "AtRoHfgClgqS"
      },
      "outputs": [],
      "source": [
        "import os\n",
        "from llama_index.postprocessor.cohere_rerank import CohereRerank\n",
        "\n",
        "cohere_rerank = CohereRerank(api_key=os.environ['COHERE_API_KEY'], top_n=2)"
      ]
    },
    {
      "cell_type": "code",
      "execution_count": 20,
      "metadata": {
        "id": "qpU4Qwo3lgns"
      },
      "outputs": [],
      "source": [
        "query_engine = vector_index.as_query_engine(\n",
        "    similarity_top_k=10,\n",
        "    node_postprocessors=[cohere_rerank],\n",
        ")"
      ]
    },
    {
      "cell_type": "code",
      "execution_count": 21,
      "metadata": {
        "colab": {
          "base_uri": "https://localhost:8080/"
        },
        "id": "9uvVyML8lgkx",
        "outputId": "d29ad8d4-cd75-477c-a0fc-3272d9ff0490"
      },
      "outputs": [
        {
          "name": "stdout",
          "output_type": "stream",
          "text": [
            "Sam Altman was one of the individuals who were part of the first batch selected to be funded in the Summer Founders Program.\n"
          ]
        }
      ],
      "source": [
        "response = query_engine.query(\n",
        "    \"What did Sam Altman do in this essay?\",\n",
        ")\n",
        "print( response )"
      ]
    }
  ],
  "metadata": {
    "colab": {
      "authorship_tag": "ABX9TyMXzjOfaH6SdmjQLFXDRt3D",
      "include_colab_link": true,
      "provenance": []
    },
    "kernelspec": {
      "display_name": "data-science-project-VmJyb5kE-py3.11",
      "language": "python",
      "name": "python3"
    },
    "language_info": {
      "codemirror_mode": {
        "name": "ipython",
        "version": 3
      },
      "file_extension": ".py",
      "mimetype": "text/x-python",
      "name": "python",
      "nbconvert_exporter": "python",
      "pygments_lexer": "ipython3",
      "version": "3.11.9"
    }
  },
  "nbformat": 4,
  "nbformat_minor": 0
}
