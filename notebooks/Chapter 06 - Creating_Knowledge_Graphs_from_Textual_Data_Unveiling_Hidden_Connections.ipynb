{
  "cells": [
    {
      "cell_type": "markdown",
      "metadata": {
        "colab_type": "text",
        "id": "view-in-github"
      },
      "source": [
        "<a href=\"https://colab.research.google.com/github/towardsai/ragbook-notebooks/blob/main/notebooks/Chapter%2006%20-%20Creating_Knowledge_Graphs_from_Textual_Data_Unveiling_Hidden_Connections.ipynb\" target=\"_parent\"><img src=\"https://colab.research.google.com/assets/colab-badge.svg\" alt=\"Open In Colab\"/></a>"
      ]
    },
    {
      "cell_type": "code",
      "execution_count": 1,
      "metadata": {
        "colab": {
          "base_uri": "https://localhost:8080/"
        },
        "id": "8jFmPv7qAk-h",
        "outputId": "5444cdd2-156d-4b08-8f89-6bdc6b3956d2"
      },
      "outputs": [
        {
          "name": "stdout",
          "output_type": "stream",
          "text": [
            "Collecting pyvis\n",
            "  Downloading pyvis-0.3.2-py3-none-any.whl.metadata (1.7 kB)\n",
            "Requirement already satisfied: ipython>=5.3.0 in c:\\users\\christian\\appdata\\local\\pypoetry\\cache\\virtualenvs\\data-science-project-vmjyb5ke-py3.11\\lib\\site-packages (from pyvis) (8.23.0)\n",
            "Requirement already satisfied: jinja2>=2.9.6 in c:\\users\\christian\\appdata\\local\\pypoetry\\cache\\virtualenvs\\data-science-project-vmjyb5ke-py3.11\\lib\\site-packages (from pyvis) (3.1.3)\n",
            "Collecting jsonpickle>=1.4.1 (from pyvis)\n",
            "  Downloading jsonpickle-4.0.1-py3-none-any.whl.metadata (8.2 kB)\n",
            "Requirement already satisfied: networkx>=1.11 in c:\\users\\christian\\appdata\\local\\pypoetry\\cache\\virtualenvs\\data-science-project-vmjyb5ke-py3.11\\lib\\site-packages (from pyvis) (3.4.2)\n",
            "Requirement already satisfied: decorator in c:\\users\\christian\\appdata\\local\\pypoetry\\cache\\virtualenvs\\data-science-project-vmjyb5ke-py3.11\\lib\\site-packages (from ipython>=5.3.0->pyvis) (5.1.1)\n",
            "Requirement already satisfied: jedi>=0.16 in c:\\users\\christian\\appdata\\local\\pypoetry\\cache\\virtualenvs\\data-science-project-vmjyb5ke-py3.11\\lib\\site-packages (from ipython>=5.3.0->pyvis) (0.19.1)\n",
            "Requirement already satisfied: matplotlib-inline in c:\\users\\christian\\appdata\\local\\pypoetry\\cache\\virtualenvs\\data-science-project-vmjyb5ke-py3.11\\lib\\site-packages (from ipython>=5.3.0->pyvis) (0.1.6)\n",
            "Requirement already satisfied: prompt-toolkit<3.1.0,>=3.0.41 in c:\\users\\christian\\appdata\\local\\pypoetry\\cache\\virtualenvs\\data-science-project-vmjyb5ke-py3.11\\lib\\site-packages (from ipython>=5.3.0->pyvis) (3.0.43)\n",
            "Requirement already satisfied: pygments>=2.4.0 in c:\\users\\christian\\appdata\\local\\pypoetry\\cache\\virtualenvs\\data-science-project-vmjyb5ke-py3.11\\lib\\site-packages (from ipython>=5.3.0->pyvis) (2.17.2)\n",
            "Requirement already satisfied: stack-data in c:\\users\\christian\\appdata\\local\\pypoetry\\cache\\virtualenvs\\data-science-project-vmjyb5ke-py3.11\\lib\\site-packages (from ipython>=5.3.0->pyvis) (0.6.3)\n",
            "Requirement already satisfied: traitlets>=5.13.0 in c:\\users\\christian\\appdata\\local\\pypoetry\\cache\\virtualenvs\\data-science-project-vmjyb5ke-py3.11\\lib\\site-packages (from ipython>=5.3.0->pyvis) (5.14.2)\n",
            "Requirement already satisfied: typing-extensions in c:\\users\\christian\\appdata\\local\\pypoetry\\cache\\virtualenvs\\data-science-project-vmjyb5ke-py3.11\\lib\\site-packages (from ipython>=5.3.0->pyvis) (4.12.2)\n",
            "Requirement already satisfied: colorama in c:\\users\\christian\\appdata\\local\\pypoetry\\cache\\virtualenvs\\data-science-project-vmjyb5ke-py3.11\\lib\\site-packages (from ipython>=5.3.0->pyvis) (0.4.6)\n",
            "Requirement already satisfied: MarkupSafe>=2.0 in c:\\users\\christian\\appdata\\local\\pypoetry\\cache\\virtualenvs\\data-science-project-vmjyb5ke-py3.11\\lib\\site-packages (from jinja2>=2.9.6->pyvis) (2.1.5)\n",
            "Requirement already satisfied: parso<0.9.0,>=0.8.3 in c:\\users\\christian\\appdata\\local\\pypoetry\\cache\\virtualenvs\\data-science-project-vmjyb5ke-py3.11\\lib\\site-packages (from jedi>=0.16->ipython>=5.3.0->pyvis) (0.8.3)\n",
            "Requirement already satisfied: wcwidth in c:\\users\\christian\\appdata\\local\\pypoetry\\cache\\virtualenvs\\data-science-project-vmjyb5ke-py3.11\\lib\\site-packages (from prompt-toolkit<3.1.0,>=3.0.41->ipython>=5.3.0->pyvis) (0.2.13)\n",
            "Requirement already satisfied: executing>=1.2.0 in c:\\users\\christian\\appdata\\local\\pypoetry\\cache\\virtualenvs\\data-science-project-vmjyb5ke-py3.11\\lib\\site-packages (from stack-data->ipython>=5.3.0->pyvis) (2.0.1)\n",
            "Requirement already satisfied: asttokens>=2.1.0 in c:\\users\\christian\\appdata\\local\\pypoetry\\cache\\virtualenvs\\data-science-project-vmjyb5ke-py3.11\\lib\\site-packages (from stack-data->ipython>=5.3.0->pyvis) (2.4.1)\n",
            "Requirement already satisfied: pure-eval in c:\\users\\christian\\appdata\\local\\pypoetry\\cache\\virtualenvs\\data-science-project-vmjyb5ke-py3.11\\lib\\site-packages (from stack-data->ipython>=5.3.0->pyvis) (0.2.2)\n",
            "Requirement already satisfied: six>=1.12.0 in c:\\users\\christian\\appdata\\local\\pypoetry\\cache\\virtualenvs\\data-science-project-vmjyb5ke-py3.11\\lib\\site-packages (from asttokens>=2.1.0->stack-data->ipython>=5.3.0->pyvis) (1.16.0)\n",
            "Downloading pyvis-0.3.2-py3-none-any.whl (756 kB)\n",
            "   ---------------------------------------- 0.0/756.0 kB ? eta -:--:--\n",
            "   --------------------------------------- 756.0/756.0 kB 15.9 MB/s eta 0:00:00\n",
            "Downloading jsonpickle-4.0.1-py3-none-any.whl (46 kB)\n",
            "Installing collected packages: jsonpickle, pyvis\n",
            "Successfully installed jsonpickle-4.0.1 pyvis-0.3.2\n"
          ]
        }
      ],
      "source": [
        "!pip install pyvis"
      ]
    },
    {
      "cell_type": "code",
      "execution_count": 2,
      "metadata": {
        "colab": {
          "base_uri": "https://localhost:8080/"
        },
        "id": "fdhPiWF1CbhM",
        "outputId": "3f605fe4-a6eb-43b2-b75e-abdd2fb667f0"
      },
      "outputs": [
        {
          "data": {
            "text/plain": [
              "True"
            ]
          },
          "execution_count": 2,
          "metadata": {},
          "output_type": "execute_result"
        }
      ],
      "source": [
        "from dotenv import load_dotenv\n",
        "load_dotenv()"
      ]
    },
    {
      "cell_type": "code",
      "execution_count": 3,
      "metadata": {
        "colab": {
          "base_uri": "https://localhost:8080/"
        },
        "id": "9XvgMXSRCeNE",
        "outputId": "78336cf0-7fdb-4511-8a5a-1184d750c395"
      },
      "outputs": [
        {
          "name": "stderr",
          "output_type": "stream",
          "text": [
            "c:\\Users\\Christian\\AppData\\Local\\pypoetry\\Cache\\virtualenvs\\data-science-project-VmJyb5kE-py3.11\\Lib\\site-packages\\deeplake\\util\\check_latest_version.py:32: UserWarning: A newer version of deeplake (4.1.6) is available. It's recommended that you update to the latest version using `pip install -U deeplake`.\n",
            "  warnings.warn(\n"
          ]
        },
        {
          "name": "stdout",
          "output_type": "stream",
          "text": [
            "(Paris, is the capital of, France)<|>(Paris, is the most populous city of, France)<|>(Eiffel Tower, is a famous landmark in, Paris)\n"
          ]
        }
      ],
      "source": [
        "from langchain.prompts import PromptTemplate\n",
        "from langchain.chat_models import ChatOpenAI\n",
        "from langchain.chains import LLMChain\n",
        "from langchain.graphs.networkx_graph import KG_TRIPLE_DELIMITER\n",
        "\n",
        "# Prompt template for knowledge triple extraction\n",
        "_DEFAULT_KNOWLEDGE_TRIPLE_EXTRACTION_TEMPLATE = (\n",
        "    \"You are a networked intelligence helping a human track knowledge triples\"\n",
        "    \" about all relevant people, things, concepts, etc. and integrating\"\n",
        "    \" them with your knowledge stored within your weights\"\n",
        "    \" as well as that stored in a knowledge graph.\"\n",
        "    \" Extract all of the knowledge triples from the text.\"\n",
        "    \" A knowledge triple is a clause that contains a subject, a predicate,\"\n",
        "    \" and an object. The subject is the entity being described,\"\n",
        "    \" the predicate is the property of the subject that is being\"\n",
        "    \" described, and the object is the value of the property.\\n\\n\"\n",
        "    \"EXAMPLE\\n\"\n",
        "    \"It's a state in the US. It's also the number 1 producer of gold in the US.\\n\\n\"\n",
        "    f\"Output: (Nevada, is a, state){KG_TRIPLE_DELIMITER}(Nevada, is in, US)\"\n",
        "    f\"{KG_TRIPLE_DELIMITER}(Nevada, is the number 1 producer of, gold)\\n\"\n",
        "    \"END OF EXAMPLE\\n\\n\"\n",
        "    \"EXAMPLE\\n\"\n",
        "    \"I'm going to the store.\\n\\n\"\n",
        "    \"Output: NONE\\n\"\n",
        "    \"END OF EXAMPLE\\n\\n\"\n",
        "    \"EXAMPLE\\n\"\n",
        "    \"Oh huh. I know Descartes likes to drive antique scooters and play the mandolin.\\n\"\n",
        "    f\"Output: (Descartes, likes to drive, antique scooters){KG_TRIPLE_DELIMITER}(Descartes, plays, mandolin)\\n\"\n",
        "    \"END OF EXAMPLE\\n\\n\"\n",
        "    \"EXAMPLE\\n\"\n",
        "    \"{text}\"\n",
        "    \"Output:\"\n",
        ")\n",
        "\n",
        "KNOWLEDGE_TRIPLE_EXTRACTION_PROMPT = PromptTemplate(\n",
        "    input_variables=[\"text\"],\n",
        "    template=_DEFAULT_KNOWLEDGE_TRIPLE_EXTRACTION_TEMPLATE,\n",
        ")\n",
        "\n",
        "# Instantiate the OpenAI model\n",
        "llm = ChatOpenAI(model_name='gpt-3.5-turbo', temperature=0.0)\n",
        "\n",
        "# Create an LLMChain using the knowledge triple extraction prompt\n",
        "chain = LLMChain(llm=llm, prompt=KNOWLEDGE_TRIPLE_EXTRACTION_PROMPT)\n",
        "\n",
        "# Run the chain with the specified text\n",
        "text = \"The city of Paris is the capital and most populous city of France. The Eiffel Tower is a famous landmark in Paris.\"\n",
        "triples = chain.run(text)\n",
        "\n",
        "print(triples)"
      ]
    },
    {
      "cell_type": "code",
      "execution_count": 4,
      "metadata": {
        "colab": {
          "base_uri": "https://localhost:8080/"
        },
        "id": "17DGISoLDkCt",
        "outputId": "99c02cbb-050e-408f-cb86-810ae56f74e8"
      },
      "outputs": [
        {
          "name": "stdout",
          "output_type": "stream",
          "text": [
            "['(Paris, is the capital of, France)', '(Paris, is the most populous city of, France)', '(Eiffel Tower, is a famous landmark in, Paris)']\n"
          ]
        }
      ],
      "source": [
        "def parse_triples(response, delimiter=KG_TRIPLE_DELIMITER):\n",
        "    if not response:\n",
        "        return []\n",
        "    return response.split(delimiter)\n",
        "\n",
        "triples_list = parse_triples(triples)\n",
        "\n",
        "# Print the extracted relation triplets\n",
        "print(triples_list)"
      ]
    },
    {
      "cell_type": "code",
      "execution_count": 5,
      "metadata": {
        "colab": {
          "base_uri": "https://localhost:8080/",
          "height": 639
        },
        "id": "l93_tobPEAvs",
        "outputId": "6a3bf1ad-bbed-48ae-a497-98c93bd9fb90"
      },
      "outputs": [
        {
          "name": "stdout",
          "output_type": "stream",
          "text": [
            "knowledge_graph.html\n"
          ]
        },
        {
          "data": {
            "text/html": [
              "\n",
              "        <iframe\n",
              "            width=\"100%\"\n",
              "            height=\"600px\"\n",
              "            src=\"knowledge_graph.html\"\n",
              "            frameborder=\"0\"\n",
              "            allowfullscreen\n",
              "            \n",
              "        ></iframe>\n",
              "        "
            ],
            "text/plain": [
              "<IPython.lib.display.IFrame at 0x2158789e210>"
            ]
          },
          "execution_count": 5,
          "metadata": {},
          "output_type": "execute_result"
        }
      ],
      "source": [
        "from pyvis.network import Network\n",
        "import networkx as nx\n",
        "\n",
        "# Create a NetworkX graph from the extracted relation triplets\n",
        "def create_graph_from_triplets(triplets):\n",
        "    G = nx.DiGraph()\n",
        "    for triplet in triplets:\n",
        "        subject, predicate, obj = triplet.strip().split(',')\n",
        "        G.add_edge(subject.strip(), obj.strip(), label=predicate.strip())\n",
        "    return G\n",
        "\n",
        "# Convert the NetworkX graph to a PyVis network\n",
        "def nx_to_pyvis(networkx_graph):\n",
        "    pyvis_graph = Network(notebook=True, cdn_resources='remote')\n",
        "    for node in networkx_graph.nodes():\n",
        "        pyvis_graph.add_node(node)\n",
        "    for edge in networkx_graph.edges(data=True):\n",
        "        pyvis_graph.add_edge(edge[0], edge[1], label=edge[2][\"label\"])\n",
        "    return pyvis_graph\n",
        "\n",
        "triplets = [t.strip() for t in triples_list if t.strip()]\n",
        "graph = create_graph_from_triplets(triplets)\n",
        "pyvis_network = nx_to_pyvis(graph)\n",
        "\n",
        "# Customize the appearance of the graph\n",
        "pyvis_network.toggle_hide_edges_on_drag(True)\n",
        "pyvis_network.toggle_physics(False)\n",
        "pyvis_network.set_edge_smooth('discrete')\n",
        "\n",
        "# Show the interactive knowledge graph visualization\n",
        "pyvis_network.show(\"knowledge_graph.html\")"
      ]
    }
  ],
  "metadata": {
    "colab": {
      "authorship_tag": "ABX9TyPFQrOIcWy4gmlvDq+QJn2a",
      "include_colab_link": true,
      "provenance": []
    },
    "kernelspec": {
      "display_name": "data-science-project-VmJyb5kE-py3.11",
      "language": "python",
      "name": "python3"
    },
    "language_info": {
      "codemirror_mode": {
        "name": "ipython",
        "version": 3
      },
      "file_extension": ".py",
      "mimetype": "text/x-python",
      "name": "python",
      "nbconvert_exporter": "python",
      "pygments_lexer": "ipython3",
      "version": "3.11.9"
    }
  },
  "nbformat": 4,
  "nbformat_minor": 0
}
